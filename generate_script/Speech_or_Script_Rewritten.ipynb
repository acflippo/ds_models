{
 "cells": [
  {
   "cell_type": "code",
   "execution_count": 1,
   "metadata": {
    "collapsed": false
   },
   "outputs": [],
   "source": [
    "import markovify"
   ]
  },
  {
   "cell_type": "code",
   "execution_count": 4,
   "metadata": {
    "collapsed": false
   },
   "outputs": [
    {
     "name": "stdout",
     "output_type": "stream",
     "text": [
      "Homer pulls the hammer out of their house, mouths agape.\n",
      "Homer picks up the flagpole by his underpants.\n",
      "He returns to eating donuts off the window and Lou handcuffs him to explode into pieces.\n",
      "Good to see the movie.\n",
      "None\n",
      "BART: You don't know what to do!\n",
      "LISA: I want bananas on my death bed.\n",
      "Krusty spits out the skateboard's back wheel.\n"
     ]
    }
   ],
   "source": [
    "# Simpson 1\n",
    "# Get raw text as string.\n",
    "with open(\"data/simpsons/Simpsons1.txt\") as f:\n",
    "    text = f.read()\n",
    "    \n",
    "# Build the model.\n",
    "text_model = markovify.Text(text, state_size=2)\n",
    "\n",
    "# Print five randomly-generated sentences\n",
    "for i in range(5):\n",
    "    print(text_model.make_sentence())\n",
    "    \n",
    "# Print three randomly-generated sentences of no more than 140 characters\n",
    "for i in range(3):\n",
    "    print(text_model.make_short_sentence(300))"
   ]
  },
  {
   "cell_type": "code",
   "execution_count": 17,
   "metadata": {
    "collapsed": false
   },
   "outputs": [
    {
     "name": "stdout",
     "output_type": "stream",
     "text": [
      "Like, you ever had or the mechanical bull.\n",
      "Moe_Szyslak: I gotta pay for that?\n",
      "I really have to pick up my friend in my bar, there's a ripcord app I can use.\n",
      "And as for you, we're here for Lenny.\n",
      "Moe_Szyslak: I just need to act like human beings.\n",
      "Moe_Szyslak: Hey you can't inspire terror in your butt!\n",
      "Kearney's_Dad: Hey, somethin's wrong with this baby, now it's lefty's turn.\n",
      "I, I thought it was Moe's Ice Cream Carnival.\n"
     ]
    }
   ],
   "source": [
    "# Get raw text as string.\n",
    "with open(\"data/simpsons/moes_tavern_lines.txt\") as f:\n",
    "    text = f.read()\n",
    "    \n",
    "# Build the model.\n",
    "text_model = markovify.Text(text, state_size=2)\n",
    "\n",
    "# Print five randomly-generated sentences\n",
    "for i in range(5):\n",
    "    print(text_model.make_sentence())\n",
    "    \n",
    "# Print three randomly-generated sentences of no more than 150 characters\n",
    "for i in range(3):\n",
    "    print(text_model.make_short_sentence(150))"
   ]
  },
  {
   "cell_type": "code",
   "execution_count": 18,
   "metadata": {
    "collapsed": false
   },
   "outputs": [
    {
     "name": "stdout",
     "output_type": "stream",
     "text": [
      "Burns hits the ground.\n",
      "A little roughhousing with the pets are in make-up.\n",
      "BURNS: We're gonna send a message to those bureaucrats in the state capital like it or not!\n",
      "Burns hits the ground.\n",
      "BURNS: Oh, that I have nothing to hope for.\n",
      "HOMER: I hope Burns and I are a dying breed, Simpson.\n",
      "None\n",
      "ADVISOR: Well, we've gone through her garbage ADVISOR 3: He, uh, he felt her up.\n",
      "Burns shudders and gives her own press conference.\n",
      "Later that night, Homer sits in bed, Homer tries to turn Mary Bailey to finally step in and do something about that hideous genetic mutation.\n",
      "Where do you have a question about the upcoming election.\n",
      "I bust my butt day in and do something about that hideous genetic mutation.\n",
      "In a few moments the government inspection team will be eating out of proportion you didn't even know how many eyes a fish had.\n",
      "BURNS: So you're saying this fish is a miracle of nature, with a question you would like to say anything about that hideous genetic mutation.\n",
      "A rested employee is a miracle of nature, with a start.\n",
      "Well I'm a Bailey Booster.\n",
      "Oh, by the way, the night before the election we want you to see this.\n",
      "That's it, that's how I'm gonna overlook this felony, however, I will lower taxes whether those bureaucrats in the state capital like it or not!\n"
     ]
    }
   ],
   "source": [
    "with open(\"data/simpsons/S02_7F01_Two_Cars.txt\") as f:\n",
    "    text = f.read()\n",
    "    \n",
    "# Build the model.\n",
    "text_model = markovify.Text(text, state_size=2)\n",
    "\n",
    "# Print five randomly-generated sentences\n",
    "for i in range(10):\n",
    "    print(text_model.make_sentence())\n",
    "\n",
    "# Print five randomly-generated sentences\n",
    "for i in range(5):\n",
    "    print(text_model.make_sentence())    \n",
    "    \n",
    "# Print three randomly-generated sentences of no more than 150 characters\n",
    "for i in range(3):\n",
    "    print(text_model.make_short_sentence(300))"
   ]
  }
 ],
 "metadata": {
  "kernelspec": {
   "display_name": "Python 3",
   "language": "python",
   "name": "python3"
  },
  "language_info": {
   "codemirror_mode": {
    "name": "ipython",
    "version": 3
   },
   "file_extension": ".py",
   "mimetype": "text/x-python",
   "name": "python",
   "nbconvert_exporter": "python",
   "pygments_lexer": "ipython3",
   "version": "3.6.0"
  }
 },
 "nbformat": 4,
 "nbformat_minor": 0
}
